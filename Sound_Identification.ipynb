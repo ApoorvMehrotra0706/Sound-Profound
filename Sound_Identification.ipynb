{
 "cells": [
  {
   "cell_type": "code",
   "execution_count": 1,
   "metadata": {},
   "outputs": [
    {
     "name": "stderr",
     "output_type": "stream",
     "text": [
      "Using TensorFlow backend.\n"
     ]
    }
   ],
   "source": [
    "# Importing libs and aliasing them\n",
    "import tensorflow \n",
    "import tensorflow.keras as keras\n",
    "from keras.models import Sequential\n",
    "from keras.layers import Activation, Dense, Dropout, Conv2D, \\\n",
    "                         Flatten, MaxPooling2D\n",
    "\n",
    "\n",
    "import pandas as pds\n",
    "import librosa.display\n",
    "import random\n",
    "import numpy as npy #number handling\n",
    "from sklearn.metrics import classification_report, confusion_matrix\n",
    "import matplotlib.pyplot as mtplt\n",
    "\n",
    "import warnings\n",
    "warnings.filterwarnings('ignore')"
   ]
  },
  {
   "cell_type": "markdown",
   "metadata": {},
   "source": [
    "# Reading the content from the csv file"
   ]
  },
  {
   "cell_type": "code",
   "execution_count": 2,
   "metadata": {
    "scrolled": true
   },
   "outputs": [
    {
     "data": {
      "text/html": [
       "<div>\n",
       "<style scoped>\n",
       "    .dataframe tbody tr th:only-of-type {\n",
       "        vertical-align: middle;\n",
       "    }\n",
       "\n",
       "    .dataframe tbody tr th {\n",
       "        vertical-align: top;\n",
       "    }\n",
       "\n",
       "    .dataframe thead th {\n",
       "        text-align: right;\n",
       "    }\n",
       "</style>\n",
       "<table border=\"1\" class=\"dataframe\">\n",
       "  <thead>\n",
       "    <tr style=\"text-align: right;\">\n",
       "      <th></th>\n",
       "      <th>slice_file_name</th>\n",
       "      <th>fsID</th>\n",
       "      <th>start</th>\n",
       "      <th>end</th>\n",
       "      <th>salience</th>\n",
       "      <th>fold</th>\n",
       "      <th>classID</th>\n",
       "      <th>class</th>\n",
       "    </tr>\n",
       "  </thead>\n",
       "  <tbody>\n",
       "    <tr>\n",
       "      <th>0</th>\n",
       "      <td>100032-3-0-0.wav</td>\n",
       "      <td>100032</td>\n",
       "      <td>0.000000</td>\n",
       "      <td>0.317551</td>\n",
       "      <td>1</td>\n",
       "      <td>5</td>\n",
       "      <td>3</td>\n",
       "      <td>dog_bark</td>\n",
       "    </tr>\n",
       "    <tr>\n",
       "      <th>1</th>\n",
       "      <td>100263-2-0-117.wav</td>\n",
       "      <td>100263</td>\n",
       "      <td>58.500000</td>\n",
       "      <td>62.500000</td>\n",
       "      <td>1</td>\n",
       "      <td>5</td>\n",
       "      <td>2</td>\n",
       "      <td>children_playing</td>\n",
       "    </tr>\n",
       "    <tr>\n",
       "      <th>2</th>\n",
       "      <td>100263-2-0-121.wav</td>\n",
       "      <td>100263</td>\n",
       "      <td>60.500000</td>\n",
       "      <td>64.500000</td>\n",
       "      <td>1</td>\n",
       "      <td>5</td>\n",
       "      <td>2</td>\n",
       "      <td>children_playing</td>\n",
       "    </tr>\n",
       "    <tr>\n",
       "      <th>3</th>\n",
       "      <td>100263-2-0-126.wav</td>\n",
       "      <td>100263</td>\n",
       "      <td>63.000000</td>\n",
       "      <td>67.000000</td>\n",
       "      <td>1</td>\n",
       "      <td>5</td>\n",
       "      <td>2</td>\n",
       "      <td>children_playing</td>\n",
       "    </tr>\n",
       "    <tr>\n",
       "      <th>4</th>\n",
       "      <td>100263-2-0-137.wav</td>\n",
       "      <td>100263</td>\n",
       "      <td>68.500000</td>\n",
       "      <td>72.500000</td>\n",
       "      <td>1</td>\n",
       "      <td>5</td>\n",
       "      <td>2</td>\n",
       "      <td>children_playing</td>\n",
       "    </tr>\n",
       "    <tr>\n",
       "      <th>5</th>\n",
       "      <td>100263-2-0-143.wav</td>\n",
       "      <td>100263</td>\n",
       "      <td>71.500000</td>\n",
       "      <td>75.500000</td>\n",
       "      <td>1</td>\n",
       "      <td>5</td>\n",
       "      <td>2</td>\n",
       "      <td>children_playing</td>\n",
       "    </tr>\n",
       "    <tr>\n",
       "      <th>6</th>\n",
       "      <td>100263-2-0-161.wav</td>\n",
       "      <td>100263</td>\n",
       "      <td>80.500000</td>\n",
       "      <td>84.500000</td>\n",
       "      <td>1</td>\n",
       "      <td>5</td>\n",
       "      <td>2</td>\n",
       "      <td>children_playing</td>\n",
       "    </tr>\n",
       "    <tr>\n",
       "      <th>7</th>\n",
       "      <td>100263-2-0-3.wav</td>\n",
       "      <td>100263</td>\n",
       "      <td>1.500000</td>\n",
       "      <td>5.500000</td>\n",
       "      <td>1</td>\n",
       "      <td>5</td>\n",
       "      <td>2</td>\n",
       "      <td>children_playing</td>\n",
       "    </tr>\n",
       "    <tr>\n",
       "      <th>8</th>\n",
       "      <td>100263-2-0-36.wav</td>\n",
       "      <td>100263</td>\n",
       "      <td>18.000000</td>\n",
       "      <td>22.000000</td>\n",
       "      <td>1</td>\n",
       "      <td>5</td>\n",
       "      <td>2</td>\n",
       "      <td>children_playing</td>\n",
       "    </tr>\n",
       "    <tr>\n",
       "      <th>9</th>\n",
       "      <td>100648-1-0-0.wav</td>\n",
       "      <td>100648</td>\n",
       "      <td>4.823402</td>\n",
       "      <td>5.471927</td>\n",
       "      <td>2</td>\n",
       "      <td>10</td>\n",
       "      <td>1</td>\n",
       "      <td>car_horn</td>\n",
       "    </tr>\n",
       "  </tbody>\n",
       "</table>\n",
       "</div>"
      ],
      "text/plain": [
       "      slice_file_name    fsID      start        end  salience  fold  classID  \\\n",
       "0    100032-3-0-0.wav  100032   0.000000   0.317551         1     5        3   \n",
       "1  100263-2-0-117.wav  100263  58.500000  62.500000         1     5        2   \n",
       "2  100263-2-0-121.wav  100263  60.500000  64.500000         1     5        2   \n",
       "3  100263-2-0-126.wav  100263  63.000000  67.000000         1     5        2   \n",
       "4  100263-2-0-137.wav  100263  68.500000  72.500000         1     5        2   \n",
       "5  100263-2-0-143.wav  100263  71.500000  75.500000         1     5        2   \n",
       "6  100263-2-0-161.wav  100263  80.500000  84.500000         1     5        2   \n",
       "7    100263-2-0-3.wav  100263   1.500000   5.500000         1     5        2   \n",
       "8   100263-2-0-36.wav  100263  18.000000  22.000000         1     5        2   \n",
       "9    100648-1-0-0.wav  100648   4.823402   5.471927         2    10        1   \n",
       "\n",
       "              class  \n",
       "0          dog_bark  \n",
       "1  children_playing  \n",
       "2  children_playing  \n",
       "3  children_playing  \n",
       "4  children_playing  \n",
       "5  children_playing  \n",
       "6  children_playing  \n",
       "7  children_playing  \n",
       "8  children_playing  \n",
       "9          car_horn  "
      ]
     },
     "execution_count": 2,
     "metadata": {},
     "output_type": "execute_result"
    }
   ],
   "source": [
    "# Reading the Data and its format\n",
    "data = pds.read_csv(r'UrbanSound8K.tar\\UrbanSound8K\\metadata\\UrbanSound8K.csv')\n",
    "data.head(10)"
   ]
  },
  {
   "cell_type": "code",
   "execution_count": 3,
   "metadata": {},
   "outputs": [
    {
     "data": {
      "text/plain": [
       "(8732, 8)"
      ]
     },
     "execution_count": 3,
     "metadata": {},
     "output_type": "execute_result"
    }
   ],
   "source": [
    "data.shape #finding the shape of input matrix (row * column)"
   ]
  },
  {
   "cell_type": "code",
   "execution_count": 4,
   "metadata": {},
   "outputs": [
    {
     "data": {
      "text/plain": [
       "(7468, 4)"
      ]
     },
     "execution_count": 4,
     "metadata": {},
     "output_type": "execute_result"
    }
   ],
   "source": [
    "# Extracting data that is only three seconds long for the possible and efficient implementation\n",
    "required_data = data[['slice_file_name', 'fold' ,'classID', 'class']][ data['end']-data['start'] >= 3 ]\n",
    "required_data.shape"
   ]
  },
  {
   "cell_type": "markdown",
   "metadata": {},
   "source": [
    "# Spectrogram representation of all the categories"
   ]
  },
  {
   "cell_type": "code",
   "execution_count": 5,
   "metadata": {},
   "outputs": [],
   "source": [
    "path = 'UrbanSound8K.tar\\\\UrbanSound8K\\\\audio\\\\'"
   ]
  },
  {
   "cell_type": "code",
   "execution_count": 6,
   "metadata": {},
   "outputs": [
    {
     "data": {
      "text/plain": [
       "(128, 128)"
      ]
     },
     "execution_count": 6,
     "metadata": {},
     "output_type": "execute_result"
    }
   ],
   "source": [
    "# Representation of a dog barking mel spectrogram\n",
    "#y_value, sr_value = librosa.load(r'UrbanSound8K.tar\\UrbanSound8K\\audio\\fold1\\7383-3-0-1.wav', duration=2.97)\n",
    "y_value, sr_value = librosa.load(path + 'fold1\\\\7383-3-0-1.wav', duration=2.97)\n",
    "graph_output = librosa.feature.melspectrogram(y=y_value, sr=sr_value)\n",
    "graph_output.shape"
   ]
  },
  {
   "cell_type": "code",
   "execution_count": 7,
   "metadata": {},
   "outputs": [
    {
     "data": {
      "text/plain": [
       "<matplotlib.axes._subplots.AxesSubplot at 0x238b6cac6c8>"
      ]
     },
     "execution_count": 7,
     "metadata": {},
     "output_type": "execute_result"
    },
    {
     "data": {
      "image/png": "[encoded data removed]",
      "text/plain": [
       "<Figure size 432x288 with 1 Axes>"
      ]
     },
     "metadata": {
      "needs_background": "light"
     },
     "output_type": "display_data"
    }
   ],
   "source": [
    "librosa.display.specshow(graph_output, y_axis='mel', x_axis='time')"
   ]
  },
  {
   "cell_type": "code",
   "execution_count": 8,
   "metadata": {},
   "outputs": [
    {
     "data": {
      "text/plain": [
       "(128, 128)"
      ]
     },
     "execution_count": 8,
     "metadata": {},
     "output_type": "execute_result"
    }
   ],
   "source": [
    "# Representation of a street music mel spectrogram\n",
    "y_value, sr_value = librosa.load(path + 'fold2\\\\14780-9-0-1.wav', duration=2.97)\n",
    "graph_output = librosa.feature.melspectrogram(y=y_value, sr=sr_value)\n",
    "graph_output.shape"
   ]
  },
  {
   "cell_type": "code",
   "execution_count": 9,
   "metadata": {},
   "outputs": [
    {
     "data": {
      "text/plain": [
       "<matplotlib.axes._subplots.AxesSubplot at 0x238b70c3b48>"
      ]
     },
     "execution_count": 9,
     "metadata": {},
     "output_type": "execute_result"
    },
    {
     "data": {
      "image/png": "[encoded data removed]",
      "text/plain": [
       "<Figure size 432x288 with 1 Axes>"
      ]
     },
     "metadata": {
      "needs_background": "light"
     },
     "output_type": "display_data"
    }
   ],
   "source": [
    "librosa.display.specshow(graph_output, y_axis='mel', x_axis='time')"
   ]
  },
  {
   "cell_type": "code",
   "execution_count": 10,
   "metadata": {},
   "outputs": [
    {
     "data": {
      "text/plain": [
       "(128, 128)"
      ]
     },
     "execution_count": 10,
     "metadata": {},
     "output_type": "execute_result"
    }
   ],
   "source": [
    "# Representation of a siren mel spectrogram\n",
    "y_value, sr_value = librosa.load(path + 'fold3\\\\184623-8-0-1.wav', duration=2.97)\n",
    "graph_output = librosa.feature.melspectrogram(y=y_value, sr=sr_value)\n",
    "graph_output.shape"
   ]
  },
  {
   "cell_type": "code",
   "execution_count": 11,
   "metadata": {},
   "outputs": [
    {
     "data": {
      "text/plain": [
       "<matplotlib.axes._subplots.AxesSubplot at 0x238b809f4c8>"
      ]
     },
     "execution_count": 11,
     "metadata": {},
     "output_type": "execute_result"
    },
    {
     "data": {
      "image/png": "[encoded data removed]",
      "text/plain": [
       "<Figure size 432x288 with 1 Axes>"
      ]
     },
     "metadata": {
      "needs_background": "light"
     },
     "output_type": "display_data"
    }
   ],
   "source": [
    "librosa.display.specshow(graph_output, y_axis='mel', x_axis='time')"
   ]
  },
  {
   "cell_type": "code",
   "execution_count": 12,
   "metadata": {},
   "outputs": [
    {
     "data": {
      "text/plain": [
       "(128, 128)"
      ]
     },
     "execution_count": 12,
     "metadata": {},
     "output_type": "execute_result"
    }
   ],
   "source": [
    "# Representation of a car horn spectrogram\n",
    "y_value, sr_value = librosa.load(path + 'fold3\\\\9674-1-0-0.wav', duration=2.97)\n",
    "graph_output = librosa.feature.melspectrogram(y=y_value, sr=sr_value)\n",
    "graph_output.shape"
   ]
  },
  {
   "cell_type": "code",
   "execution_count": 13,
   "metadata": {},
   "outputs": [
    {
     "data": {
      "text/plain": [
       "<matplotlib.axes._subplots.AxesSubplot at 0x238b6fdb088>"
      ]
     },
     "execution_count": 13,
     "metadata": {},
     "output_type": "execute_result"
    },
    {
     "data": {
      "image/png": "[encoded data removed]",
      "text/plain": [
       "<Figure size 432x288 with 1 Axes>"
      ]
     },
     "metadata": {
      "needs_background": "light"
     },
     "output_type": "display_data"
    }
   ],
   "source": [
    "librosa.display.specshow(graph_output, y_axis='mel', x_axis='time')"
   ]
  },
  {
   "cell_type": "code",
   "execution_count": 14,
   "metadata": {},
   "outputs": [
    {
     "data": {
      "text/plain": [
       "(128, 128)"
      ]
     },
     "execution_count": 14,
     "metadata": {},
     "output_type": "execute_result"
    }
   ],
   "source": [
    "# Representation of an air-conditioner spectrogram\n",
    "y_value, sr_value = librosa.load(path + 'fold6\\\\204240-0-0-1.wav', duration=2.97)\n",
    "graph_output = librosa.feature.melspectrogram(y=y_value, sr=sr_value)\n",
    "graph_output.shape"
   ]
  },
  {
   "cell_type": "code",
   "execution_count": 15,
   "metadata": {},
   "outputs": [
    {
     "data": {
      "text/plain": [
       "<matplotlib.axes._subplots.AxesSubplot at 0x238b6d99b88>"
      ]
     },
     "execution_count": 15,
     "metadata": {},
     "output_type": "execute_result"
    },
    {
     "data": {
      "image/png": "[encoded data removed]",
      "text/plain": [
       "<Figure size 432x288 with 1 Axes>"
      ]
     },
     "metadata": {
      "needs_background": "light"
     },
     "output_type": "display_data"
    }
   ],
   "source": [
    "librosa.display.specshow(graph_output, y_axis='mel', x_axis='time')"
   ]
  },
  {
   "cell_type": "code",
   "execution_count": 16,
   "metadata": {},
   "outputs": [
    {
     "data": {
      "text/plain": [
       "(128, 128)"
      ]
     },
     "execution_count": 16,
     "metadata": {},
     "output_type": "execute_result"
    }
   ],
   "source": [
    "# Representation of children playing spectrogram\n",
    "y_value, sr_value = librosa.load(path + 'fold3\\\\9223-2-0-4.wav', duration=2.97)\n",
    "graph_output = librosa.feature.melspectrogram(y=y_value, sr=sr_value)\n",
    "graph_output.shape"
   ]
  },
  {
   "cell_type": "code",
   "execution_count": 17,
   "metadata": {},
   "outputs": [
    {
     "data": {
      "text/plain": [
       "<matplotlib.axes._subplots.AxesSubplot at 0x238b6d032c8>"
      ]
     },
     "execution_count": 17,
     "metadata": {},
     "output_type": "execute_result"
    },
    {
     "data": {
      "image/png": "[encoded data removed]",
      "text/plain": [
       "<Figure size 432x288 with 1 Axes>"
      ]
     },
     "metadata": {
      "needs_background": "light"
     },
     "output_type": "display_data"
    }
   ],
   "source": [
    "librosa.display.specshow(graph_output, y_axis='mel', x_axis='time')"
   ]
  },
  {
   "cell_type": "code",
   "execution_count": 18,
   "metadata": {},
   "outputs": [
    {
     "data": {
      "text/plain": [
       "(128, 128)"
      ]
     },
     "execution_count": 18,
     "metadata": {},
     "output_type": "execute_result"
    }
   ],
   "source": [
    "# Representation of an engine idling spectrogram\n",
    "y_value, sr_value = librosa.load(path + 'fold5\\\\17578-5-0-18.wav', duration=2.97)\n",
    "graph_output = librosa.feature.melspectrogram(y=y_value, sr=sr_value)\n",
    "graph_output.shape"
   ]
  },
  {
   "cell_type": "code",
   "execution_count": 19,
   "metadata": {},
   "outputs": [
    {
     "data": {
      "text/plain": [
       "<matplotlib.axes._subplots.AxesSubplot at 0x238b6de8308>"
      ]
     },
     "execution_count": 19,
     "metadata": {},
     "output_type": "execute_result"
    },
    {
     "data": {
      "image/png": "[encoded data removed]",
      "text/plain": [
       "<Figure size 432x288 with 1 Axes>"
      ]
     },
     "metadata": {
      "needs_background": "light"
     },
     "output_type": "display_data"
    }
   ],
   "source": [
    "librosa.display.specshow(graph_output, y_axis='mel', x_axis='time')"
   ]
  },
  {
   "cell_type": "code",
   "execution_count": 20,
   "metadata": {},
   "outputs": [
    {
     "data": {
      "text/plain": [
       "(128, 128)"
      ]
     },
     "execution_count": 20,
     "metadata": {},
     "output_type": "execute_result"
    }
   ],
   "source": [
    "# Representation of a drilling spectrogram\n",
    "y_value, sr_value = librosa.load(path + 'fold3\\\\37560-4-0-1.wav', duration=2.97)\n",
    "graph_output = librosa.feature.melspectrogram(y=y_value, sr=sr_value)\n",
    "graph_output.shape"
   ]
  },
  {
   "cell_type": "code",
   "execution_count": 21,
   "metadata": {},
   "outputs": [
    {
     "data": {
      "text/plain": [
       "<matplotlib.axes._subplots.AxesSubplot at 0x238b6fea5c8>"
      ]
     },
     "execution_count": 21,
     "metadata": {},
     "output_type": "execute_result"
    },
    {
     "data": {
      "image/png": "[encoded data removed]",
      "text/plain": [
       "<Figure size 432x288 with 1 Axes>"
      ]
     },
     "metadata": {
      "needs_background": "light"
     },
     "output_type": "display_data"
    }
   ],
   "source": [
    "librosa.display.specshow(graph_output, y_axis='mel', x_axis='time')"
   ]
  },
  {
   "cell_type": "code",
   "execution_count": 22,
   "metadata": {},
   "outputs": [
    {
     "data": {
      "text/plain": [
       "(128, 128)"
      ]
     },
     "execution_count": 22,
     "metadata": {},
     "output_type": "execute_result"
    }
   ],
   "source": [
    "# Representation of a jack hammer spectrogram\n",
    "y_value, sr_value = librosa.load(path + 'fold7\\\\177537-7-0-10.wav', duration=2.97)\n",
    "graph_output = librosa.feature.melspectrogram(y=y_value, sr=sr_value)\n",
    "graph_output.shape"
   ]
  },
  {
   "cell_type": "code",
   "execution_count": 23,
   "metadata": {},
   "outputs": [
    {
     "data": {
      "text/plain": [
       "<matplotlib.axes._subplots.AxesSubplot at 0x238b6e1f6c8>"
      ]
     },
     "execution_count": 23,
     "metadata": {},
     "output_type": "execute_result"
    },
    {
     "data": {
      "image/png": "[encoded data removed]",
      "text/plain": [
       "<Figure size 432x288 with 1 Axes>"
      ]
     },
     "metadata": {
      "needs_background": "light"
     },
     "output_type": "display_data"
    }
   ],
   "source": [
    "librosa.display.specshow(graph_output, y_axis='mel', x_axis='time')"
   ]
  },
  {
   "cell_type": "code",
   "execution_count": 24,
   "metadata": {},
   "outputs": [
    {
     "data": {
      "text/plain": [
       "(128, 128)"
      ]
     },
     "execution_count": 24,
     "metadata": {},
     "output_type": "execute_result"
    }
   ],
   "source": [
    "# Representation of a gun shot spectrogram\n",
    "y_value, sr_value = librosa.load(path + 'fold2\\\\35800-6-0-0.wav', duration=2.97)\n",
    "graph_output = librosa.feature.melspectrogram(y=y_value, sr=sr_value)\n",
    "graph_output.shape"
   ]
  },
  {
   "cell_type": "code",
   "execution_count": 25,
   "metadata": {},
   "outputs": [
    {
     "data": {
      "text/plain": [
       "<matplotlib.axes._subplots.AxesSubplot at 0x238b6e66948>"
      ]
     },
     "execution_count": 25,
     "metadata": {},
     "output_type": "execute_result"
    },
    {
     "data": {
      "image/png": "[encoded data removed]",
      "text/plain": [
       "<Figure size 432x288 with 1 Axes>"
      ]
     },
     "metadata": {
      "needs_background": "light"
     },
     "output_type": "display_data"
    }
   ],
   "source": [
    "librosa.display.specshow(graph_output, y_axis='mel', x_axis='time')"
   ]
  },
  {
   "cell_type": "code",
   "execution_count": 26,
   "metadata": {},
   "outputs": [],
   "source": [
    "required_data['path'] = 'fold' + required_data['fold'].astype('str') + '/' + required_data['slice_file_name'].astype('str')"
   ]
  },
  {
   "cell_type": "code",
   "execution_count": 27,
   "metadata": {},
   "outputs": [],
   "source": [
    "DS = [] # Dataset to hold the shaped values\n",
    "\n",
    "for row in required_data.itertuples():\n",
    "    y, sr = librosa.load(path + row.path, duration=2.97)  \n",
    "    ps = librosa.feature.melspectrogram(y=y, sr=sr)\n",
    "    if ps.shape != (128, 128): continue\n",
    "    DS.append( (ps, row.classID) )"
   ]
  },
  {
   "cell_type": "code",
   "execution_count": 28,
   "metadata": {},
   "outputs": [
    {
     "name": "stdout",
     "output_type": "stream",
     "text": [
      "Number of samples:  7467\n"
     ]
    }
   ],
   "source": [
    "print(\"Number of samples: \", len(DS))"
   ]
  },
  {
   "cell_type": "markdown",
   "metadata": {},
   "source": [
    "# Defining the test and train strategies"
   ]
  },
  {
   "cell_type": "code",
   "execution_count": 29,
   "metadata": {},
   "outputs": [],
   "source": [
    "dataset = DS\n",
    "random.shuffle(dataset)\n",
    "\n",
    "train = dataset[:5974]  #segregation 1 to 5974\n",
    "test = dataset[5974:] #5974 onwards\n",
    "\n",
    "X_train, y_train = zip(*train)\n",
    "X_test, y_test = zip(*test)\n",
    "\n",
    "# Reshape for CNN input\n",
    "X_train = npy.array([x.reshape( (128, 128, 1) ) for x in X_train])\n",
    "X_test = npy.array([x.reshape( (128, 128, 1) ) for x in X_test])\n",
    "\n",
    "# One-Hot encoding for classes\n",
    "y_train = npy.array(keras.utils.to_categorical(y_train, 10))\n",
    "y_test = npy.array(keras.utils.to_categorical(y_test, 10))\n"
   ]
  },
  {
   "cell_type": "markdown",
   "metadata": {},
   "source": [
    "# Defining the CNN layers "
   ]
  },
  {
   "cell_type": "code",
   "execution_count": 30,
   "metadata": {},
   "outputs": [],
   "source": [
    "model = Sequential()\n",
    "input_shape=(128, 128, 1)\n",
    "\n",
    "model.add(Conv2D(24, (5, 5), strides=(1, 1), input_shape=input_shape))\n",
    "model.add(MaxPooling2D((4, 2), strides=(4, 2)))\n",
    "model.add(Activation('relu'))\n",
    "\n",
    "model.add(Conv2D(48, (5, 5), padding=\"valid\"))\n",
    "model.add(MaxPooling2D((4, 2), strides=(4, 2)))\n",
    "model.add(Activation('relu'))\n",
    "\n",
    "model.add(Conv2D(48, (5, 5), padding=\"valid\"))\n",
    "model.add(Activation('relu'))\n",
    "\n",
    "model.add(Flatten())\n",
    "model.add(Dropout(rate=0.2))\n",
    "\n",
    "model.add(Dense(64))\n",
    "model.add(Activation('relu'))\n",
    "model.add(Dropout(rate=0.2))\n",
    "\n",
    "model.add(Dense(10))\n",
    "model.add(Activation('softmax'))"
   ]
  },
  {
   "cell_type": "markdown",
   "metadata": {},
   "source": [
    "# Compiling and testing the model"
   ]
  },
  {
   "cell_type": "code",
   "execution_count": 31,
   "metadata": {},
   "outputs": [
    {
     "name": "stdout",
     "output_type": "stream",
     "text": [
      "Train on 5974 samples, validate on 1493 samples\n",
      "Epoch 1/35\n",
      "5974/5974 [==============================] - 92s 15ms/step - loss: 2.3623 - accuracy: 0.2402 - val_loss: 2.0417 - val_accuracy: 0.3583\n",
      "Epoch 2/35\n",
      "5974/5974 [==============================] - 91s 15ms/step - loss: 1.8761 - accuracy: 0.3688 - val_loss: 1.7174 - val_accuracy: 0.4153\n",
      "Epoch 3/35\n",
      "5974/5974 [==============================] - 91s 15ms/step - loss: 1.5662 - accuracy: 0.4531 - val_loss: 1.5755 - val_accuracy: 0.4675\n",
      "Epoch 4/35\n",
      "5974/5974 [==============================] - 90s 15ms/step - loss: 1.4416 - accuracy: 0.4854 - val_loss: 1.4763 - val_accuracy: 0.5198\n",
      "Epoch 5/35\n",
      "5974/5974 [==============================] - 91s 15ms/step - loss: 1.3370 - accuracy: 0.5375 - val_loss: 1.3025 - val_accuracy: 0.5881\n",
      "Epoch 6/35\n",
      "5974/5974 [==============================] - 91s 15ms/step - loss: 1.1704 - accuracy: 0.5877 - val_loss: 1.2395 - val_accuracy: 0.6269\n",
      "Epoch 7/35\n",
      "5974/5974 [==============================] - 92s 15ms/step - loss: 1.1241 - accuracy: 0.6225 - val_loss: 1.2721 - val_accuracy: 0.6410\n",
      "Epoch 8/35\n",
      "5974/5974 [==============================] - 95s 16ms/step - loss: 1.0281 - accuracy: 0.6453 - val_loss: 1.1278 - val_accuracy: 0.6825\n",
      "Epoch 9/35\n",
      "5974/5974 [==============================] - 100s 17ms/step - loss: 0.9427 - accuracy: 0.6846 - val_loss: 1.2257 - val_accuracy: 0.6283\n",
      "Epoch 10/35\n",
      "5974/5974 [==============================] - 92s 15ms/step - loss: 0.9946 - accuracy: 0.6634 - val_loss: 1.2089 - val_accuracy: 0.6966\n",
      "Epoch 11/35\n",
      "5974/5974 [==============================] - 93s 16ms/step - loss: 0.8613 - accuracy: 0.7079 - val_loss: 1.1343 - val_accuracy: 0.6952\n",
      "Epoch 12/35\n",
      "5974/5974 [==============================] - 91s 15ms/step - loss: 0.8296 - accuracy: 0.7178 - val_loss: 1.1578 - val_accuracy: 0.7160\n",
      "Epoch 13/35\n",
      "5974/5974 [==============================] - 92s 15ms/step - loss: 0.8006 - accuracy: 0.7317 - val_loss: 1.1527 - val_accuracy: 0.7234\n",
      "Epoch 14/35\n",
      "5974/5974 [==============================] - 94s 16ms/step - loss: 0.7692 - accuracy: 0.7516 - val_loss: 1.1964 - val_accuracy: 0.6939\n",
      "Epoch 15/35\n",
      "5974/5974 [==============================] - 91s 15ms/step - loss: 0.8300 - accuracy: 0.7349 - val_loss: 1.1562 - val_accuracy: 0.7334\n",
      "Epoch 16/35\n",
      "5974/5974 [==============================] - 91s 15ms/step - loss: 0.6887 - accuracy: 0.7782 - val_loss: 1.0481 - val_accuracy: 0.7555\n",
      "Epoch 17/35\n",
      "5974/5974 [==============================] - 101s 17ms/step - loss: 0.6368 - accuracy: 0.7924 - val_loss: 1.1136 - val_accuracy: 0.7749\n",
      "Epoch 18/35\n",
      "5974/5974 [==============================] - 92s 15ms/step - loss: 0.5889 - accuracy: 0.8057 - val_loss: 1.1868 - val_accuracy: 0.7796\n",
      "Epoch 19/35\n",
      "5974/5974 [==============================] - 92s 15ms/step - loss: 0.6094 - accuracy: 0.8038 - val_loss: 1.1006 - val_accuracy: 0.7756\n",
      "Epoch 20/35\n",
      "5974/5974 [==============================] - 93s 16ms/step - loss: 0.7121 - accuracy: 0.7819 - val_loss: 1.1631 - val_accuracy: 0.7321\n",
      "Epoch 21/35\n",
      "5974/5974 [==============================] - 93s 16ms/step - loss: 0.6246 - accuracy: 0.7978 - val_loss: 1.1049 - val_accuracy: 0.7723\n",
      "Epoch 22/35\n",
      "5974/5974 [==============================] - 95s 16ms/step - loss: 0.5885 - accuracy: 0.8122 - val_loss: 1.0711 - val_accuracy: 0.7843\n",
      "Epoch 23/35\n",
      "5974/5974 [==============================] - 97s 16ms/step - loss: 0.4768 - accuracy: 0.8400 - val_loss: 1.1172 - val_accuracy: 0.7904\n",
      "Epoch 24/35\n",
      "5974/5974 [==============================] - 94s 16ms/step - loss: 0.4475 - accuracy: 0.8562 - val_loss: 1.1548 - val_accuracy: 0.7944\n",
      "Epoch 25/35\n",
      "5974/5974 [==============================] - 93s 16ms/step - loss: 0.4421 - accuracy: 0.8594 - val_loss: 1.2689 - val_accuracy: 0.7937\n",
      "Epoch 26/35\n",
      "5974/5974 [==============================] - 94s 16ms/step - loss: 0.5100 - accuracy: 0.8391 - val_loss: 1.2192 - val_accuracy: 0.7609\n",
      "Epoch 27/35\n",
      "5974/5974 [==============================] - 96s 16ms/step - loss: 0.4749 - accuracy: 0.8490 - val_loss: 1.2419 - val_accuracy: 0.7656\n",
      "Epoch 28/35\n",
      "5974/5974 [==============================] - 101s 17ms/step - loss: 0.5562 - accuracy: 0.8306 - val_loss: 1.0998 - val_accuracy: 0.7743\n",
      "Epoch 29/35\n",
      "5974/5974 [==============================] - 92s 15ms/step - loss: 0.4771 - accuracy: 0.8485 - val_loss: 1.0763 - val_accuracy: 0.7991\n",
      "Epoch 30/35\n",
      "5974/5974 [==============================] - 95s 16ms/step - loss: 0.4223 - accuracy: 0.8586 - val_loss: 1.2929 - val_accuracy: 0.7930\n",
      "Epoch 31/35\n",
      "5974/5974 [==============================] - 114s 19ms/step - loss: 0.4099 - accuracy: 0.8644 - val_loss: 1.1587 - val_accuracy: 0.7984\n",
      "Epoch 32/35\n",
      "5974/5974 [==============================] - 105s 18ms/step - loss: 0.3556 - accuracy: 0.8830 - val_loss: 1.3725 - val_accuracy: 0.8091\n",
      "Epoch 33/35\n",
      "5974/5974 [==============================] - 96s 16ms/step - loss: 0.4206 - accuracy: 0.8634 - val_loss: 1.3947 - val_accuracy: 0.7890\n",
      "Epoch 34/35\n",
      "5974/5974 [==============================] - 96s 16ms/step - loss: 0.3401 - accuracy: 0.8862 - val_loss: 1.3537 - val_accuracy: 0.7984\n",
      "Epoch 35/35\n",
      "5974/5974 [==============================] - 99s 17ms/step - loss: 0.3030 - accuracy: 0.8976 - val_loss: 1.2520 - val_accuracy: 0.8078\n",
      "1493/1493 [==============================] - 11s 8ms/step\n",
      "Test loss: 1.252047272233139\n",
      "Test accuracy: 0.8077695965766907\n"
     ]
    }
   ],
   "source": [
    "model.compile(\n",
    "    optimizer=\"Adam\",\n",
    "    loss=\"categorical_crossentropy\",\n",
    "    metrics=['accuracy'])\n",
    "\n",
    "history = model.fit(\n",
    "    x=X_train, \n",
    "    y=y_train,\n",
    "    epochs=35,\n",
    "    batch_size=128,\n",
    "    validation_data= (X_test, y_test))\n",
    "\n",
    "score = model.evaluate(\n",
    "    x=X_test,\n",
    "    y=y_test)\n",
    "\n",
    "print('Test loss:', score[0])\n",
    "print('Test accuracy:', score[1])"
   ]
  },
  {
   "cell_type": "code",
   "execution_count": 32,
   "metadata": {},
   "outputs": [
    {
     "name": "stdout",
     "output_type": "stream",
     "text": [
      "Net Training Accuracy observed:  0.9295279383659363\n"
     ]
    }
   ],
   "source": [
    "score = model.evaluate(X_train, y_train, verbose=0)\n",
    "print(\"Net Training Accuracy observed: \", score[1])"
   ]
  },
  {
   "cell_type": "markdown",
   "metadata": {},
   "source": [
    "# Plotting Confusion Matrix"
   ]
  },
  {
   "cell_type": "code",
   "execution_count": 33,
   "metadata": {},
   "outputs": [
    {
     "data": {
      "image/png": "[encoded data removed]",
      "text/plain": [
       "<Figure size 576x432 with 2 Axes>"
      ]
     },
     "metadata": {
      "needs_background": "light"
     },
     "output_type": "display_data"
    }
   ],
   "source": [
    "import seaborn as sns\n",
    "y_pred = model.predict(X_test)\n",
    "cm =confusion_matrix(y_test.argmax(axis=1), y_pred.argmax(axis=1))\n",
    "cm_df = pds.DataFrame(cm,\n",
    "                     index = ['air_conditioner','car_horn','children_playing','dog_bark','drilling','engine_idling','gun_shot','jackhammer','siren','street_music'], \n",
    "                     columns = ['air_conditioner','car_horn','children_playing','dog_bark','drilling','engine_idling','gun_shot','jackhammer','siren','street_music'])\n",
    "\n",
    "mtplt.figure(figsize=(8,6))\n",
    "sns.heatmap(cm_df, annot=True)\n",
    "mtplt.ylabel('True label')\n",
    "mtplt.xlabel('Predicted label')\n",
    "mtplt.show()"
   ]
  },
  {
   "cell_type": "markdown",
   "metadata": {},
   "source": [
    "# Implementing Augmentation"
   ]
  },
  {
   "cell_type": "code",
   "execution_count": 34,
   "metadata": {},
   "outputs": [],
   "source": [
    "rate = 0.81 # can be replaced with 1.07 and executed again\n",
    "\n",
    "for row in required_data.itertuples():\n",
    "    y, sr = librosa.load('UrbanSound8K.tar/UrbanSound8K/audio/' + row.path)  \n",
    "    y_changed = librosa.effects.time_stretch(y, rate=rate)\n",
    "    librosa.output.write_wav('UrbanSound8K.tar/UrbanSound8K/augmented/fold' + str(row.fold) + '/speed_' + str(int(rate*100)) + '/' + row.slice_file_name ,y_changed, sr)"
   ]
  },
  {
   "cell_type": "code",
   "execution_count": 35,
   "metadata": {},
   "outputs": [],
   "source": [
    "n_steps = 2 #-1, -2, 2, 1\n",
    "\n",
    "for row in required_data.itertuples():\n",
    "    y, sr = librosa.load('UrbanSound8K.tar/UrbanSound8K/audio/' + row.path)  \n",
    "    y_changed = librosa.effects.pitch_shift(y, sr, n_steps=n_steps)\n",
    "    librosa.output.write_wav('UrbanSound8K.tar/UrbanSound8K/augmented/fold' + str(row.fold) + '/ps1_' + str(int(n_steps)) + '/' + row.slice_file_name ,y_changed, sr)"
   ]
  },
  {
   "cell_type": "code",
   "execution_count": 36,
   "metadata": {},
   "outputs": [],
   "source": [
    "n_steps = 2.5 #-2.5, -3.5, 2.5, 3.5\n",
    "\n",
    "for row in required_data.itertuples():\n",
    "    y, sr = librosa.load('UrbanSound8K.tar/UrbanSound8K/audio/' + row.path)  \n",
    "    y_changed = librosa.effects.pitch_shift(y, sr, n_steps=n_steps)\n",
    "    librosa.output.write_wav('UrbanSound8K.tar/UrbanSound8K/augmented/fold' + str(row.fold) + '/ps2_' + str(int(n_steps*10)) + '/' + row.slice_file_name ,y_changed, sr)"
   ]
  },
  {
   "cell_type": "code",
   "execution_count": 37,
   "metadata": {},
   "outputs": [],
   "source": [
    "required_data['path1'] =  '/' + required_data['slice_file_name'].astype('str')\n",
    "for row in required_data.itertuples():\n",
    "    y, sr = librosa.load('UrbanSound8K.tar/UrbanSound8K/augmented/fold' +  str(row.fold) + '/ps1_2' + row.path1 , duration=2.97)  \n",
    "    ps = librosa.feature.melspectrogram(y=y, sr=sr)\n",
    "    if ps.shape != (128, 128): continue\n",
    "    DS.append( (ps, row.classID) )"
   ]
  },
  {
   "cell_type": "code",
   "execution_count": 38,
   "metadata": {},
   "outputs": [
    {
     "data": {
      "text/plain": [
       "14934"
      ]
     },
     "execution_count": 38,
     "metadata": {},
     "output_type": "execute_result"
    }
   ],
   "source": [
    "len(DS)"
   ]
  },
  {
   "cell_type": "code",
   "execution_count": 39,
   "metadata": {},
   "outputs": [],
   "source": [
    "required_data['path1'] =  '/' + required_data['slice_file_name'].astype('str')\n",
    "\n",
    "for row in required_data.itertuples():\n",
    "    y, sr = librosa.load('UrbanSound8K.tar/UrbanSound8K/augmented/fold' +  str(row.fold) + '/ps2_25' + row.path1 , duration=2.97)  \n",
    "    ps = librosa.feature.melspectrogram(y=y, sr=sr)\n",
    "    if ps.shape != (128, 128): continue\n",
    "    DS.append( (ps, row.classID) )    "
   ]
  },
  {
   "cell_type": "code",
   "execution_count": 40,
   "metadata": {},
   "outputs": [
    {
     "data": {
      "text/plain": [
       "22401"
      ]
     },
     "execution_count": 40,
     "metadata": {},
     "output_type": "execute_result"
    }
   ],
   "source": [
    "len(DS)"
   ]
  },
  {
   "cell_type": "code",
   "execution_count": 41,
   "metadata": {},
   "outputs": [],
   "source": [
    "for row in required_data.itertuples():\n",
    "    y, sr = librosa.load('UrbanSound8K.tar/UrbanSound8K/augmented/fold' +  str(row.fold) + '/speed_81' + row.path1 , duration=2.97)  \n",
    "    ps = librosa.feature.melspectrogram(y=y, sr=sr)\n",
    "    if ps.shape != (128, 128): continue\n",
    "    DS.append( (ps, row.classID) )"
   ]
  },
  {
   "cell_type": "code",
   "execution_count": 42,
   "metadata": {},
   "outputs": [
    {
     "data": {
      "text/plain": [
       "29869"
      ]
     },
     "execution_count": 42,
     "metadata": {},
     "output_type": "execute_result"
    }
   ],
   "source": [
    "len(DS)"
   ]
  },
  {
   "cell_type": "markdown",
   "metadata": {},
   "source": [
    "# Checking the dataset count now"
   ]
  },
  {
   "cell_type": "code",
   "execution_count": 43,
   "metadata": {},
   "outputs": [
    {
     "name": "stdout",
     "output_type": "stream",
     "text": [
      "The number of samples are:  29869\n"
     ]
    }
   ],
   "source": [
    "print(\"The number of samples are: \", len(DS))"
   ]
  },
  {
   "cell_type": "markdown",
   "metadata": {},
   "source": [
    "# Recompiling and testing the model to get an enhanced efficiency"
   ]
  },
  {
   "cell_type": "code",
   "execution_count": 44,
   "metadata": {},
   "outputs": [],
   "source": [
    "dataset = DS\n",
    "random.shuffle(dataset)\n",
    "\n",
    "train = dataset[:26000]  #segregation 1 to 26000\n",
    "test = dataset[26000:] #26000 onwards\n",
    "\n",
    "X_train, y_train = zip(*train)\n",
    "X_test, y_test = zip(*test)\n",
    "\n",
    "# Reshape for CNN input\n",
    "X_train = npy.array([x.reshape( (128, 128, 1) ) for x in X_train])\n",
    "X_test = npy.array([x.reshape( (128, 128, 1) ) for x in X_test])\n",
    "\n",
    "# One-Hot encoding for classes\n",
    "y_train = npy.array(keras.utils.to_categorical(y_train, 10))\n",
    "y_test = npy.array(keras.utils.to_categorical(y_test, 10))\n"
   ]
  },
  {
   "cell_type": "code",
   "execution_count": 45,
   "metadata": {},
   "outputs": [],
   "source": [
    "model = Sequential()\n",
    "input_shape=(128, 128, 1)\n",
    "\n",
    "model.add(Conv2D(24, (5, 5), strides=(1, 1), input_shape=input_shape))\n",
    "model.add(MaxPooling2D((4, 2), strides=(4, 2)))\n",
    "model.add(Activation('relu'))\n",
    "\n",
    "model.add(Conv2D(48, (5, 5), padding=\"valid\"))\n",
    "model.add(MaxPooling2D((4, 2), strides=(4, 2)))\n",
    "model.add(Activation('relu'))\n",
    "\n",
    "model.add(Conv2D(48, (5, 5), padding=\"valid\"))\n",
    "model.add(Activation('relu'))\n",
    "\n",
    "model.add(Flatten())\n",
    "model.add(Dropout(rate=0.2))\n",
    "\n",
    "model.add(Dense(64))\n",
    "model.add(Activation('relu'))\n",
    "model.add(Dropout(rate=0.2))\n",
    "\n",
    "model.add(Dense(10))\n",
    "model.add(Activation('softmax'))"
   ]
  },
  {
   "cell_type": "code",
   "execution_count": 46,
   "metadata": {},
   "outputs": [
    {
     "name": "stdout",
     "output_type": "stream",
     "text": [
      "Train on 26000 samples, validate on 3869 samples\n",
      "Epoch 1/35\n",
      "26000/26000 [==============================] - 488s 19ms/step - loss: 1.9307 - accuracy: 0.3285 - val_loss: 1.4795 - val_accuracy: 0.4745\n",
      "Epoch 2/35\n",
      "26000/26000 [==============================] - 488s 19ms/step - loss: 1.4056 - accuracy: 0.5012 - val_loss: 1.2951 - val_accuracy: 0.5299\n",
      "Epoch 3/35\n",
      "26000/26000 [==============================] - 688s 26ms/step - loss: 1.1483 - accuracy: 0.6021 - val_loss: 1.0653 - val_accuracy: 0.6542\n",
      "Epoch 4/35\n",
      "26000/26000 [==============================] - 499s 19ms/step - loss: 0.9609 - accuracy: 0.6693 - val_loss: 0.8450 - val_accuracy: 0.7340\n",
      "Epoch 5/35\n",
      "26000/26000 [==============================] - 441s 17ms/step - loss: 0.8425 - accuracy: 0.7134 - val_loss: 1.0779 - val_accuracy: 0.6521\n",
      "Epoch 6/35\n",
      "26000/26000 [==============================] - 439s 17ms/step - loss: 0.7507 - accuracy: 0.7469 - val_loss: 0.7726 - val_accuracy: 0.7361\n",
      "Epoch 7/35\n",
      "26000/26000 [==============================] - 456s 18ms/step - loss: 0.7075 - accuracy: 0.7642 - val_loss: 0.5862 - val_accuracy: 0.8085\n",
      "Epoch 8/35\n",
      "26000/26000 [==============================] - 423s 16ms/step - loss: 0.6246 - accuracy: 0.7919 - val_loss: 0.5646 - val_accuracy: 0.8199\n",
      "Epoch 9/35\n",
      "26000/26000 [==============================] - 427s 16ms/step - loss: 0.5897 - accuracy: 0.8028 - val_loss: 0.5510 - val_accuracy: 0.8188\n",
      "Epoch 10/35\n",
      "26000/26000 [==============================] - 427s 16ms/step - loss: 0.5141 - accuracy: 0.8273 - val_loss: 0.4937 - val_accuracy: 0.8292\n",
      "Epoch 11/35\n",
      "26000/26000 [==============================] - 445s 17ms/step - loss: 0.5006 - accuracy: 0.8331 - val_loss: 0.5025 - val_accuracy: 0.8488\n",
      "Epoch 12/35\n",
      "26000/26000 [==============================] - 514s 20ms/step - loss: 0.4428 - accuracy: 0.8504 - val_loss: 0.4459 - val_accuracy: 0.8560\n",
      "Epoch 13/35\n",
      "26000/26000 [==============================] - 494s 19ms/step - loss: 0.4238 - accuracy: 0.8588 - val_loss: 0.4855 - val_accuracy: 0.8472\n",
      "Epoch 14/35\n",
      "26000/26000 [==============================] - 505s 19ms/step - loss: 0.4360 - accuracy: 0.8593 - val_loss: 0.4411 - val_accuracy: 0.8581\n",
      "Epoch 15/35\n",
      "26000/26000 [==============================] - 490s 19ms/step - loss: 0.3926 - accuracy: 0.8684 - val_loss: 0.4199 - val_accuracy: 0.8715\n",
      "Epoch 16/35\n",
      "26000/26000 [==============================] - 493s 19ms/step - loss: 0.3679 - accuracy: 0.8761 - val_loss: 0.3780 - val_accuracy: 0.8770\n",
      "Epoch 17/35\n",
      "26000/26000 [==============================] - 480s 18ms/step - loss: 0.3238 - accuracy: 0.8897 - val_loss: 0.3392 - val_accuracy: 0.8927\n",
      "Epoch 18/35\n",
      "26000/26000 [==============================] - 574s 22ms/step - loss: 0.3351 - accuracy: 0.8906 - val_loss: 0.3888 - val_accuracy: 0.8827\n",
      "Epoch 19/35\n",
      "26000/26000 [==============================] - 543s 21ms/step - loss: 0.3379 - accuracy: 0.8894 - val_loss: 0.3633 - val_accuracy: 0.8987\n",
      "Epoch 20/35\n",
      "26000/26000 [==============================] - 543s 21ms/step - loss: 0.3047 - accuracy: 0.8987 - val_loss: 0.3356 - val_accuracy: 0.8958\n",
      "Epoch 21/35\n",
      "26000/26000 [==============================] - 523s 20ms/step - loss: 0.2679 - accuracy: 0.9113 - val_loss: 0.3220 - val_accuracy: 0.9062\n",
      "Epoch 22/35\n",
      "26000/26000 [==============================] - 500s 19ms/step - loss: 0.2628 - accuracy: 0.9105 - val_loss: 0.3570 - val_accuracy: 0.9072\n",
      "Epoch 23/35\n",
      "26000/26000 [==============================] - 429s 16ms/step - loss: 0.2624 - accuracy: 0.9150 - val_loss: 0.3650 - val_accuracy: 0.8904\n",
      "Epoch 24/35\n",
      "26000/26000 [==============================] - 426s 16ms/step - loss: 0.2833 - accuracy: 0.9097 - val_loss: 0.3036 - val_accuracy: 0.9108\n",
      "Epoch 25/35\n",
      "26000/26000 [==============================] - 472s 18ms/step - loss: 0.2405 - accuracy: 0.9191 - val_loss: 0.3578 - val_accuracy: 0.9106\n",
      "Epoch 26/35\n",
      "26000/26000 [==============================] - 597s 23ms/step - loss: 0.2600 - accuracy: 0.9160 - val_loss: 0.3447 - val_accuracy: 0.9098\n",
      "Epoch 27/35\n",
      "26000/26000 [==============================] - 690s 27ms/step - loss: 0.2242 - accuracy: 0.9280 - val_loss: 0.3080 - val_accuracy: 0.9157\n",
      "Epoch 28/35\n",
      "26000/26000 [==============================] - 633s 24ms/step - loss: 0.1990 - accuracy: 0.9327 - val_loss: 0.2791 - val_accuracy: 0.9279\n",
      "Epoch 29/35\n",
      "26000/26000 [==============================] - 606s 23ms/step - loss: 0.1897 - accuracy: 0.9355 - val_loss: 0.3018 - val_accuracy: 0.9207\n",
      "Epoch 30/35\n",
      "26000/26000 [==============================] - 582s 22ms/step - loss: 0.1875 - accuracy: 0.9375 - val_loss: 0.2314 - val_accuracy: 0.9346\n",
      "Epoch 31/35\n",
      "26000/26000 [==============================] - 582s 22ms/step - loss: 0.1727 - accuracy: 0.9423 - val_loss: 0.2686 - val_accuracy: 0.9271\n",
      "Epoch 32/35\n",
      "26000/26000 [==============================] - 590s 23ms/step - loss: 0.2076 - accuracy: 0.9338 - val_loss: 0.3383 - val_accuracy: 0.9199\n",
      "Epoch 33/35\n",
      "26000/26000 [==============================] - 610s 23ms/step - loss: 0.2121 - accuracy: 0.9357 - val_loss: 0.2792 - val_accuracy: 0.9240\n",
      "Epoch 34/35\n",
      "26000/26000 [==============================] - 598s 23ms/step - loss: 0.2218 - accuracy: 0.9330 - val_loss: 0.2645 - val_accuracy: 0.9274\n",
      "Epoch 35/35\n",
      "26000/26000 [==============================] - 587s 23ms/step - loss: 0.2786 - accuracy: 0.9172 - val_loss: 0.3766 - val_accuracy: 0.9062\n",
      "3869/3869 [==============================] - 27s 7ms/step\n",
      "Test loss: 0.22896710404353593\n",
      "Test accuracy: 0.9295279383659363\n"
     ]
    }
   ],
   "source": [
    "model.compile(\n",
    "    optimizer=\"Adam\",\n",
    "    loss=\"categorical_crossentropy\",\n",
    "    metrics=['accuracy'])\n",
    "\n",
    "history1 = model.fit(\n",
    "    x=X_train, \n",
    "    y=y_train,\n",
    "    epochs=35,\n",
    "    batch_size=128,\n",
    "    validation_data= (X_test, y_test))\n",
    "\n",
    "score1 = model.evaluate(\n",
    "    x=X_test,\n",
    "    y=y_test)\n",
    "\n",
    "print('Test loss:', score[0])\n",
    "print('Test accuracy:', score[1])"
   ]
  },
  {
   "cell_type": "code",
   "execution_count": 47,
   "metadata": {},
   "outputs": [
    {
     "name": "stdout",
     "output_type": "stream",
     "text": [
      "Net Training Accuracy observed:  0.950615406036377\n"
     ]
    }
   ],
   "source": [
    "score_aug = model.evaluate(X_train, y_train, verbose=0)\n",
    "print(\"Net Training Accuracy observed: \", score_aug[1])"
   ]
  },
  {
   "cell_type": "markdown",
   "metadata": {},
   "source": [
    "# Plotting the confusion matrix "
   ]
  },
  {
   "cell_type": "code",
   "execution_count": 48,
   "metadata": {},
   "outputs": [
    {
     "data": {
      "image/png": "[encoded data removed]",
      "text/plain": [
       "<Figure size 576x432 with 2 Axes>"
      ]
     },
     "metadata": {
      "needs_background": "light"
     },
     "output_type": "display_data"
    }
   ],
   "source": [
    "import seaborn as sns\n",
    "y_pred = model.predict(X_test)\n",
    "cm =confusion_matrix(y_test.argmax(axis=1), y_pred.argmax(axis=1))\n",
    "cm_df = pds.DataFrame(cm,\n",
    "                     index = ['air_conditioner','car_horn','children_playing','dog_bark','drilling','engine_idling','gun_shot','jackhammer','siren','street_music'], \n",
    "                     columns = ['air_conditioner','car_horn','children_playing','dog_bark','drilling','engine_idling','gun_shot','jackhammer','siren','street_music'])\n",
    "\n",
    "mtplt.figure(figsize=(8,6))\n",
    "sns.heatmap(cm_df, annot=True)\n",
    "mtplt.ylabel('True label')\n",
    "mtplt.xlabel('Predicted label')\n",
    "mtplt.show()"
   ]
  },
  {
   "cell_type": "markdown",
   "metadata": {},
   "source": [
    "# Training for few more gun shot sample sounds"
   ]
  },
  {
   "cell_type": "code",
   "execution_count": 49,
   "metadata": {},
   "outputs": [
    {
     "data": {
      "text/html": [
       "<div>\n",
       "<style scoped>\n",
       "    .dataframe tbody tr th:only-of-type {\n",
       "        vertical-align: middle;\n",
       "    }\n",
       "\n",
       "    .dataframe tbody tr th {\n",
       "        vertical-align: top;\n",
       "    }\n",
       "\n",
       "    .dataframe thead th {\n",
       "        text-align: right;\n",
       "    }\n",
       "</style>\n",
       "<table border=\"1\" class=\"dataframe\">\n",
       "  <thead>\n",
       "    <tr style=\"text-align: right;\">\n",
       "      <th></th>\n",
       "      <th>slice_file_name</th>\n",
       "      <th>fsID</th>\n",
       "      <th>start</th>\n",
       "      <th>end</th>\n",
       "      <th>salience</th>\n",
       "      <th>fold</th>\n",
       "      <th>classID</th>\n",
       "      <th>class</th>\n",
       "    </tr>\n",
       "  </thead>\n",
       "  <tbody>\n",
       "    <tr>\n",
       "      <th>0</th>\n",
       "      <td>gun_battle_sound-ReamProductions-1158375208</td>\n",
       "      <td>NaN</td>\n",
       "      <td>0.20000</td>\n",
       "      <td>20.2000</td>\n",
       "      <td>1</td>\n",
       "      <td>1</td>\n",
       "      <td>6</td>\n",
       "      <td>gun_shot</td>\n",
       "    </tr>\n",
       "    <tr>\n",
       "      <th>1</th>\n",
       "      <td>gun_sound_effect_-Soundeffects-1594944898</td>\n",
       "      <td>NaN</td>\n",
       "      <td>0.45000</td>\n",
       "      <td>7.4500</td>\n",
       "      <td>1</td>\n",
       "      <td>1</td>\n",
       "      <td>6</td>\n",
       "      <td>gun_shot</td>\n",
       "    </tr>\n",
       "    <tr>\n",
       "      <th>2</th>\n",
       "      <td>machine-gun-02</td>\n",
       "      <td>NaN</td>\n",
       "      <td>0.31070</td>\n",
       "      <td>5.3107</td>\n",
       "      <td>1</td>\n",
       "      <td>1</td>\n",
       "      <td>6</td>\n",
       "      <td>gun_shot</td>\n",
       "    </tr>\n",
       "    <tr>\n",
       "      <th>3</th>\n",
       "      <td>Gun_AR15_Machine_Gun_1</td>\n",
       "      <td>NaN</td>\n",
       "      <td>0.77306</td>\n",
       "      <td>5.7736</td>\n",
       "      <td>1</td>\n",
       "      <td>1</td>\n",
       "      <td>6</td>\n",
       "      <td>gun_shot</td>\n",
       "    </tr>\n",
       "    <tr>\n",
       "      <th>4</th>\n",
       "      <td>Gun_AK47_Machine_Gun_1</td>\n",
       "      <td>NaN</td>\n",
       "      <td>0.33100</td>\n",
       "      <td>3.5310</td>\n",
       "      <td>1</td>\n",
       "      <td>1</td>\n",
       "      <td>6</td>\n",
       "      <td>gun_shot</td>\n",
       "    </tr>\n",
       "  </tbody>\n",
       "</table>\n",
       "</div>"
      ],
      "text/plain": [
       "                               slice_file_name  fsID    start      end  \\\n",
       "0  gun_battle_sound-ReamProductions-1158375208   NaN  0.20000  20.2000   \n",
       "1    gun_sound_effect_-Soundeffects-1594944898   NaN  0.45000   7.4500   \n",
       "2                               machine-gun-02   NaN  0.31070   5.3107   \n",
       "3                       Gun_AR15_Machine_Gun_1   NaN  0.77306   5.7736   \n",
       "4                       Gun_AK47_Machine_Gun_1   NaN  0.33100   3.5310   \n",
       "\n",
       "   salience  fold  classID     class  \n",
       "0         1     1        6  gun_shot  \n",
       "1         1     1        6  gun_shot  \n",
       "2         1     1        6  gun_shot  \n",
       "3         1     1        6  gun_shot  \n",
       "4         1     1        6  gun_shot  "
      ]
     },
     "execution_count": 49,
     "metadata": {},
     "output_type": "execute_result"
    }
   ],
   "source": [
    "more_data = pds.read_csv(r'UrbanSound8K.tar\\UrbanSound8K\\metadata\\UrbanSound8Kmoresounds.csv')\n",
    "more_data.head(5)"
   ]
  },
  {
   "cell_type": "code",
   "execution_count": 50,
   "metadata": {},
   "outputs": [
    {
     "data": {
      "text/plain": [
       "(8, 8)"
      ]
     },
     "execution_count": 50,
     "metadata": {},
     "output_type": "execute_result"
    }
   ],
   "source": [
    "more_data.shape #finding the shape of input matrix (row * column)"
   ]
  },
  {
   "cell_type": "code",
   "execution_count": 51,
   "metadata": {},
   "outputs": [
    {
     "data": {
      "text/plain": [
       "(7, 4)"
      ]
     },
     "execution_count": 51,
     "metadata": {},
     "output_type": "execute_result"
    }
   ],
   "source": [
    "# Extracting data that is only three seconds long for the possible and efficient implementation\n",
    "new_data = more_data[['slice_file_name', 'fold' ,'classID', 'class']][ data['end']-data['start'] >= 3 ]\n",
    "new_data.shape"
   ]
  },
  {
   "cell_type": "code",
   "execution_count": 52,
   "metadata": {},
   "outputs": [],
   "source": [
    "new_data['path'] = 'fold' + required_data['fold'].astype('str') + '/' + required_data['slice_file_name'].astype('str')"
   ]
  },
  {
   "cell_type": "code",
   "execution_count": 53,
   "metadata": {},
   "outputs": [],
   "source": [
    "for row in new_data.itertuples():\n",
    "    y, sr = librosa.load(path + row.path, duration=2.97)  \n",
    "    ps = librosa.feature.melspectrogram(y=y, sr=sr)\n",
    "    if ps.shape != (128, 128): continue\n",
    "    DS.append( (ps, row.classID) )"
   ]
  },
  {
   "cell_type": "code",
   "execution_count": 54,
   "metadata": {},
   "outputs": [
    {
     "name": "stdout",
     "output_type": "stream",
     "text": [
      "The number of samples are:  29876\n"
     ]
    }
   ],
   "source": [
    "print(\"The number of samples are: \", len(DS))"
   ]
  },
  {
   "cell_type": "code",
   "execution_count": 56,
   "metadata": {},
   "outputs": [],
   "source": [
    "dataset = DS\n",
    "#random.shuffle(dataset)\n",
    "\n",
    "test = dataset[:3500]  #segregation 1 to 3500\n",
    "train = dataset[3500:] #3500 onwards\n",
    "\n",
    "\n",
    "\n",
    "X_train, y_train = zip(*train)\n",
    "X_test, y_test = zip(*test)\n",
    "\n",
    "# Reshape for CNN input\n",
    "X_train = npy.array([x.reshape( (128, 128, 1) ) for x in X_train])\n",
    "X_test = npy.array([x.reshape( (128, 128, 1) ) for x in X_test])\n",
    "\n",
    "# One-Hot encoding for classes\n",
    "y_train = npy.array(keras.utils.to_categorical(y_train, 10))\n",
    "y_test = npy.array(keras.utils.to_categorical(y_test, 10))"
   ]
  },
  {
   "cell_type": "code",
   "execution_count": 57,
   "metadata": {},
   "outputs": [],
   "source": [
    "model = Sequential()\n",
    "input_shape=(128, 128, 1)\n",
    "\n",
    "model.add(Conv2D(24, (5, 5), strides=(1, 1), input_shape=input_shape))\n",
    "model.add(MaxPooling2D((4, 2), strides=(4, 2)))\n",
    "model.add(Activation('relu'))\n",
    "\n",
    "model.add(Conv2D(48, (5, 5), padding=\"valid\"))\n",
    "model.add(MaxPooling2D((4, 2), strides=(4, 2)))\n",
    "model.add(Activation('relu'))\n",
    "\n",
    "model.add(Conv2D(48, (5, 5), padding=\"valid\"))\n",
    "model.add(Activation('relu'))\n",
    "\n",
    "model.add(Flatten())\n",
    "model.add(Dropout(rate=0.2))\n",
    "\n",
    "model.add(Dense(64))\n",
    "model.add(Activation('relu'))\n",
    "model.add(Dropout(rate=0.2))\n",
    "\n",
    "model.add(Dense(10))\n",
    "model.add(Activation('softmax'))"
   ]
  },
  {
   "cell_type": "code",
   "execution_count": 58,
   "metadata": {},
   "outputs": [
    {
     "name": "stdout",
     "output_type": "stream",
     "text": [
      "Train on 26376 samples, validate on 3500 samples\n",
      "Epoch 1/35\n",
      "26376/26376 [==============================] - 637s 24ms/step - loss: 1.8387 - accuracy: 0.3705 - val_loss: 1.3823 - val_accuracy: 0.5146\n",
      "Epoch 2/35\n",
      "26376/26376 [==============================] - 589s 22ms/step - loss: 1.3246 - accuracy: 0.5375 - val_loss: 1.1328 - val_accuracy: 0.5946\n",
      "Epoch 3/35\n",
      "26376/26376 [==============================] - 550s 21ms/step - loss: 1.0733 - accuracy: 0.6311 - val_loss: 0.9900 - val_accuracy: 0.6580\n",
      "Epoch 4/35\n",
      "26376/26376 [==============================] - 537s 20ms/step - loss: 0.9322 - accuracy: 0.6895 - val_loss: 0.8203 - val_accuracy: 0.6986\n",
      "Epoch 5/35\n",
      "26376/26376 [==============================] - 516s 20ms/step - loss: 0.7837 - accuracy: 0.7347 - val_loss: 0.7591 - val_accuracy: 0.7491\n",
      "Epoch 6/35\n",
      "26376/26376 [==============================] - 528s 20ms/step - loss: 0.6936 - accuracy: 0.7693 - val_loss: 0.7779 - val_accuracy: 0.7363\n",
      "Epoch 7/35\n",
      "26376/26376 [==============================] - 516s 20ms/step - loss: 0.6468 - accuracy: 0.7853 - val_loss: 0.6004 - val_accuracy: 0.8026\n",
      "Epoch 8/35\n",
      "26376/26376 [==============================] - 511s 19ms/step - loss: 0.5532 - accuracy: 0.8135 - val_loss: 0.5662 - val_accuracy: 0.8026\n",
      "Epoch 9/35\n",
      "26376/26376 [==============================] - 537s 20ms/step - loss: 0.5301 - accuracy: 0.8239 - val_loss: 0.5196 - val_accuracy: 0.8217\n",
      "Epoch 10/35\n",
      "26376/26376 [==============================] - 532s 20ms/step - loss: 0.4713 - accuracy: 0.8406 - val_loss: 0.4699 - val_accuracy: 0.8429\n",
      "Epoch 11/35\n",
      "26376/26376 [==============================] - 526s 20ms/step - loss: 0.5181 - accuracy: 0.8349 - val_loss: 0.5009 - val_accuracy: 0.8360\n",
      "Epoch 12/35\n",
      "26376/26376 [==============================] - 509s 19ms/step - loss: 0.4346 - accuracy: 0.8522 - val_loss: 0.4713 - val_accuracy: 0.8414\n",
      "Epoch 13/35\n",
      "26376/26376 [==============================] - 491s 19ms/step - loss: 0.3976 - accuracy: 0.8682 - val_loss: 0.4142 - val_accuracy: 0.8574\n",
      "Epoch 14/35\n",
      "26376/26376 [==============================] - 514s 19ms/step - loss: 0.3909 - accuracy: 0.8726 - val_loss: 0.4513 - val_accuracy: 0.8617\n",
      "Epoch 15/35\n",
      "26376/26376 [==============================] - 522s 20ms/step - loss: 0.3951 - accuracy: 0.8712 - val_loss: 0.4223 - val_accuracy: 0.8631\n",
      "Epoch 16/35\n",
      "26376/26376 [==============================] - 511s 19ms/step - loss: 0.3409 - accuracy: 0.8856 - val_loss: 0.4760 - val_accuracy: 0.8549\n",
      "Epoch 17/35\n",
      "26376/26376 [==============================] - 558s 21ms/step - loss: 0.3665 - accuracy: 0.8817 - val_loss: 0.4042 - val_accuracy: 0.8743\n",
      "Epoch 18/35\n",
      "26376/26376 [==============================] - 526s 20ms/step - loss: 0.2948 - accuracy: 0.8995 - val_loss: 0.4069 - val_accuracy: 0.8771\n",
      "Epoch 19/35\n",
      "26376/26376 [==============================] - 548s 21ms/step - loss: 0.3290 - accuracy: 0.8935 - val_loss: 0.3870 - val_accuracy: 0.8754\n",
      "Epoch 20/35\n",
      "26376/26376 [==============================] - 504s 19ms/step - loss: 0.2601 - accuracy: 0.9086 - val_loss: 0.3935 - val_accuracy: 0.8906\n",
      "Epoch 21/35\n",
      "26376/26376 [==============================] - 514s 19ms/step - loss: 0.2430 - accuracy: 0.9172 - val_loss: 0.4003 - val_accuracy: 0.8966\n",
      "Epoch 22/35\n",
      "26376/26376 [==============================] - 500s 19ms/step - loss: 0.3369 - accuracy: 0.8948 - val_loss: 0.3474 - val_accuracy: 0.8966\n",
      "Epoch 23/35\n",
      "26376/26376 [==============================] - 506s 19ms/step - loss: 0.2908 - accuracy: 0.9060 - val_loss: 0.4240 - val_accuracy: 0.8843\n",
      "Epoch 24/35\n",
      "26376/26376 [==============================] - 543s 21ms/step - loss: 0.2649 - accuracy: 0.9118 - val_loss: 0.3868 - val_accuracy: 0.8909\n",
      "Epoch 25/35\n",
      "26376/26376 [==============================] - 540s 20ms/step - loss: 0.2471 - accuracy: 0.9190 - val_loss: 0.3571 - val_accuracy: 0.8977\n",
      "Epoch 26/35\n",
      "26376/26376 [==============================] - 534s 20ms/step - loss: 0.2514 - accuracy: 0.9196 - val_loss: 0.3814 - val_accuracy: 0.8983\n",
      "Epoch 27/35\n",
      "26376/26376 [==============================] - 538s 20ms/step - loss: 0.2278 - accuracy: 0.9258 - val_loss: 0.3640 - val_accuracy: 0.9137\n",
      "Epoch 28/35\n",
      "26376/26376 [==============================] - 430s 16ms/step - loss: 0.2082 - accuracy: 0.9300 - val_loss: 0.3937 - val_accuracy: 0.8880\n",
      "Epoch 29/35\n",
      "26376/26376 [==============================] - 517s 20ms/step - loss: 0.1887 - accuracy: 0.9360 - val_loss: 0.3096 - val_accuracy: 0.9243\n",
      "Epoch 30/35\n",
      "26376/26376 [==============================] - 513s 19ms/step - loss: 0.2540 - accuracy: 0.9236 - val_loss: 0.3559 - val_accuracy: 0.9023\n",
      "Epoch 31/35\n",
      "26376/26376 [==============================] - 895s 34ms/step - loss: 0.2287 - accuracy: 0.9275 - val_loss: 0.3750 - val_accuracy: 0.8971\n",
      "Epoch 32/35\n",
      "26376/26376 [==============================] - 514s 19ms/step - loss: 0.2026 - accuracy: 0.9338 - val_loss: 0.3572 - val_accuracy: 0.9077\n",
      "Epoch 33/35\n",
      "26376/26376 [==============================] - 1297s 49ms/step - loss: 0.2072 - accuracy: 0.9316 - val_loss: 0.3641 - val_accuracy: 0.8986\n",
      "Epoch 34/35\n",
      "26376/26376 [==============================] - 512s 19ms/step - loss: 0.1977 - accuracy: 0.9355 - val_loss: 0.3122 - val_accuracy: 0.9157\n",
      "Epoch 35/35\n",
      "26376/26376 [==============================] - 526s 20ms/step - loss: 0.1665 - accuracy: 0.9453 - val_loss: 0.3209 - val_accuracy: 0.9209\n",
      "3500/3500 [==============================] - 21s 6ms/step\n",
      "Test loss: 0.3209357376268932\n",
      "Test accuracy: 0.9208571314811707\n"
     ]
    }
   ],
   "source": [
    "model.compile(\n",
    "    optimizer=\"Adam\",\n",
    "    loss=\"categorical_crossentropy\",\n",
    "    metrics=['accuracy'])\n",
    "\n",
    "history = model.fit(\n",
    "    x=X_train, \n",
    "    y=y_train,\n",
    "    epochs=35,\n",
    "    batch_size=128,\n",
    "    validation_data= (X_test, y_test))\n",
    "\n",
    "score_more = model.evaluate(\n",
    "    x=X_test,\n",
    "    y=y_test)\n",
    "\n",
    "print('Test loss:', score_more[0])\n",
    "print('Test accuracy:', score_more[1])"
   ]
  },
  {
   "cell_type": "code",
   "execution_count": 59,
   "metadata": {},
   "outputs": [
    {
     "name": "stdout",
     "output_type": "stream",
     "text": [
      "Net Training Accuracy observed:  0.9700106382369995\n"
     ]
    }
   ],
   "source": [
    "score = model.evaluate(X_train, y_train, verbose=0)\n",
    "print(\"Net Training Accuracy observed: \", score[1])"
   ]
  },
  {
   "cell_type": "code",
   "execution_count": 60,
   "metadata": {},
   "outputs": [],
   "source": [
    "model.save('Sound_Identifier.model')"
   ]
  }
 ],
 "metadata": {
  "kernelspec": {
   "display_name": "Python 3",
   "language": "python",
   "name": "python3"
  },
  "language_info": {
   "codemirror_mode": {
    "name": "ipython",
    "version": 3
   },
   "file_extension": ".py",
   "mimetype": "text/x-python",
   "name": "python",
   "nbconvert_exporter": "python",
   "pygments_lexer": "ipython3",
   "version": "3.7.3"
  }
 },
 "nbformat": 4,
 "nbformat_minor": 4
}
